{
 "cells": [
  {
   "cell_type": "markdown",
   "id": "d3538a41-b82b-4330-bff5-31109eee0427",
   "metadata": {},
   "source": [
    "Using xtdb via http python requests."
   ]
  },
  {
   "cell_type": "code",
   "execution_count": 1,
   "id": "14787c8a-fb1c-48d4-b476-f9b8e90252d3",
   "metadata": {},
   "outputs": [],
   "source": [
    "import py_xtdb as xt\n",
    "import pandas as pd"
   ]
  },
  {
   "cell_type": "markdown",
   "id": "aa323db0-ed60-453c-98dc-f89a0b2de2fc",
   "metadata": {},
   "source": [
    "we can check if a server is running with `xt.status()`."
   ]
  },
  {
   "cell_type": "code",
   "execution_count": 2,
   "id": "b1d4373c-8bd8-4da7-8a98-f5d11adf79a3",
   "metadata": {},
   "outputs": [
    {
     "data": {
      "text/plain": [
       "{'version': '1.21.0',\n",
       " 'revision': 'db66ed6d3aa4e814ba34e988a5d898381dec6c81',\n",
       " 'kvStore': 'xtdb.rocksdb.RocksKv',\n",
       " 'estimateNumKeys': 1,\n",
       " 'size': 29592,\n",
       " 'indexVersion': 20,\n",
       " 'consumerState': None}"
      ]
     },
     "execution_count": 2,
     "metadata": {},
     "output_type": "execute_result"
    }
   ],
   "source": [
    "xt.status()"
   ]
  },
  {
   "cell_type": "markdown",
   "id": "4063b4af-ae1f-41c1-b2d8-331e8ba1c00a",
   "metadata": {},
   "source": [
    "(You'll probably have no keys if this is your first go)"
   ]
  },
  {
   "cell_type": "markdown",
   "id": "d5bc8879-64a1-4245-88e4-634e93787090",
   "metadata": {},
   "source": [
    "We'll create some fake data to transact with python's faker."
   ]
  },
  {
   "cell_type": "code",
   "execution_count": 3,
   "id": "b01db7b5-2cfb-4972-83a8-bd37cbdbd887",
   "metadata": {},
   "outputs": [],
   "source": [
    "from faker import Faker\n",
    "import random \n",
    "fake = Faker()\n",
    "\n",
    "def fake_doc():\n",
    "    return {\"name\"    : fake.name()    ,\n",
    "            \"city\"    : fake.city()    ,\n",
    "            \"state\"   : fake.state()   ,\n",
    "            \"address\" : fake.address() ,\n",
    "            \"xt/id\"   : random.randint(1, 10),\n",
    "            #\"xt/id\"      : fake.uuid4(),\n",
    "            \"observation-date\": fake.date_time_between(start_date='-15yr', end_date='now').isoformat(),\n",
    "            }\n",
    "\n",
    "docs = [fake_doc() for _ in range(20)] "
   ]
  },
  {
   "cell_type": "code",
   "execution_count": 4,
   "id": "0eefaec8-e138-4980-ba2f-a4f3f404865a",
   "metadata": {},
   "outputs": [
    {
     "data": {
      "text/html": [
       "<div>\n",
       "<style scoped>\n",
       "    .dataframe tbody tr th:only-of-type {\n",
       "        vertical-align: middle;\n",
       "    }\n",
       "\n",
       "    .dataframe tbody tr th {\n",
       "        vertical-align: top;\n",
       "    }\n",
       "\n",
       "    .dataframe thead th {\n",
       "        text-align: right;\n",
       "    }\n",
       "</style>\n",
       "<table border=\"1\" class=\"dataframe\">\n",
       "  <thead>\n",
       "    <tr style=\"text-align: right;\">\n",
       "      <th></th>\n",
       "      <th>name</th>\n",
       "      <th>city</th>\n",
       "      <th>state</th>\n",
       "      <th>address</th>\n",
       "      <th>xt/id</th>\n",
       "      <th>observation-date</th>\n",
       "    </tr>\n",
       "  </thead>\n",
       "  <tbody>\n",
       "    <tr>\n",
       "      <th>0</th>\n",
       "      <td>Matthew Snyder</td>\n",
       "      <td>Port Christopher</td>\n",
       "      <td>Rhode Island</td>\n",
       "      <td>98912 Lauren Alley Apt. 104\\nNorth Davidcheste...</td>\n",
       "      <td>2</td>\n",
       "      <td>2013-04-05T01:04:05</td>\n",
       "    </tr>\n",
       "    <tr>\n",
       "      <th>1</th>\n",
       "      <td>Monique Kaufman</td>\n",
       "      <td>Strongfort</td>\n",
       "      <td>Massachusetts</td>\n",
       "      <td>255 Robert Lights Apt. 802\\nPort Lisa, RI 99031</td>\n",
       "      <td>7</td>\n",
       "      <td>2019-07-25T10:56:13</td>\n",
       "    </tr>\n",
       "    <tr>\n",
       "      <th>2</th>\n",
       "      <td>Brian Anderson</td>\n",
       "      <td>Deleonberg</td>\n",
       "      <td>Maryland</td>\n",
       "      <td>269 Tucker Heights Suite 011\\nMartinville, OR ...</td>\n",
       "      <td>3</td>\n",
       "      <td>2015-10-26T01:26:58</td>\n",
       "    </tr>\n",
       "    <tr>\n",
       "      <th>3</th>\n",
       "      <td>Robert Johnson</td>\n",
       "      <td>New Kimberly</td>\n",
       "      <td>New Hampshire</td>\n",
       "      <td>71617 Huang Ramp\\nNorth Nathanielshire, RI 14862</td>\n",
       "      <td>4</td>\n",
       "      <td>2008-11-30T11:14:10</td>\n",
       "    </tr>\n",
       "    <tr>\n",
       "      <th>4</th>\n",
       "      <td>David Colon</td>\n",
       "      <td>East Richard</td>\n",
       "      <td>Texas</td>\n",
       "      <td>Unit 8047 Box 1890\\nDPO AA 32252</td>\n",
       "      <td>7</td>\n",
       "      <td>2019-12-04T03:23:16</td>\n",
       "    </tr>\n",
       "    <tr>\n",
       "      <th>5</th>\n",
       "      <td>Kyle Watkins</td>\n",
       "      <td>Patrickberg</td>\n",
       "      <td>Maine</td>\n",
       "      <td>1520 Lori Plaza\\nLake Kelly, VT 77251</td>\n",
       "      <td>4</td>\n",
       "      <td>2010-05-07T00:54:12</td>\n",
       "    </tr>\n",
       "    <tr>\n",
       "      <th>6</th>\n",
       "      <td>Diana Fischer</td>\n",
       "      <td>West Jonathanport</td>\n",
       "      <td>South Carolina</td>\n",
       "      <td>003 Rosario Ramp\\nRayton, MS 93366</td>\n",
       "      <td>2</td>\n",
       "      <td>2021-06-26T16:33:13</td>\n",
       "    </tr>\n",
       "    <tr>\n",
       "      <th>7</th>\n",
       "      <td>Bradley Brown</td>\n",
       "      <td>Floresview</td>\n",
       "      <td>Florida</td>\n",
       "      <td>93212 Carrillo Junctions\\nCardenashaven, CA 50600</td>\n",
       "      <td>6</td>\n",
       "      <td>2011-06-03T09:31:14</td>\n",
       "    </tr>\n",
       "    <tr>\n",
       "      <th>8</th>\n",
       "      <td>Stephanie Leonard</td>\n",
       "      <td>Aaronville</td>\n",
       "      <td>Ohio</td>\n",
       "      <td>668 Short Knolls\\nMargaretfort, ME 97472</td>\n",
       "      <td>4</td>\n",
       "      <td>2012-11-22T12:08:29</td>\n",
       "    </tr>\n",
       "    <tr>\n",
       "      <th>9</th>\n",
       "      <td>Michael Terry</td>\n",
       "      <td>East Nicholas</td>\n",
       "      <td>California</td>\n",
       "      <td>52143 Leah Run\\nDaltonshire, NM 74899</td>\n",
       "      <td>3</td>\n",
       "      <td>2008-09-07T09:40:11</td>\n",
       "    </tr>\n",
       "    <tr>\n",
       "      <th>10</th>\n",
       "      <td>Erica Burgess</td>\n",
       "      <td>Rubioview</td>\n",
       "      <td>Delaware</td>\n",
       "      <td>1738 Kevin Extension\\nMorrowtown, AZ 85363</td>\n",
       "      <td>8</td>\n",
       "      <td>2017-05-21T17:56:54</td>\n",
       "    </tr>\n",
       "    <tr>\n",
       "      <th>11</th>\n",
       "      <td>Katelyn Diaz</td>\n",
       "      <td>New Karaburgh</td>\n",
       "      <td>Oklahoma</td>\n",
       "      <td>629 Austin Pines Apt. 086\\nPort Benjamin, CT 5...</td>\n",
       "      <td>1</td>\n",
       "      <td>2009-08-27T12:05:29</td>\n",
       "    </tr>\n",
       "    <tr>\n",
       "      <th>12</th>\n",
       "      <td>Joseph Dudley</td>\n",
       "      <td>Christinefort</td>\n",
       "      <td>Kentucky</td>\n",
       "      <td>3608 Wendy Land Suite 886\\nShanefort, WI 33849</td>\n",
       "      <td>1</td>\n",
       "      <td>2019-10-12T03:19:55</td>\n",
       "    </tr>\n",
       "    <tr>\n",
       "      <th>13</th>\n",
       "      <td>Juan Hines</td>\n",
       "      <td>Maryside</td>\n",
       "      <td>Missouri</td>\n",
       "      <td>847 Julie Cliff\\nJacksonbury, ND 17091</td>\n",
       "      <td>8</td>\n",
       "      <td>2017-12-03T08:35:31</td>\n",
       "    </tr>\n",
       "    <tr>\n",
       "      <th>14</th>\n",
       "      <td>Alexandria Hester</td>\n",
       "      <td>East David</td>\n",
       "      <td>Minnesota</td>\n",
       "      <td>54196 Patrick Garden Suite 682\\nSouth Barryvie...</td>\n",
       "      <td>2</td>\n",
       "      <td>2014-12-14T04:01:07</td>\n",
       "    </tr>\n",
       "    <tr>\n",
       "      <th>15</th>\n",
       "      <td>Ashley Rodriguez</td>\n",
       "      <td>Andersonberg</td>\n",
       "      <td>Pennsylvania</td>\n",
       "      <td>163 Morris Mill Apt. 546\\nChavezmouth, AL 94429</td>\n",
       "      <td>10</td>\n",
       "      <td>2015-12-10T11:34:07</td>\n",
       "    </tr>\n",
       "    <tr>\n",
       "      <th>16</th>\n",
       "      <td>Sean Hunt</td>\n",
       "      <td>Moralesmouth</td>\n",
       "      <td>Delaware</td>\n",
       "      <td>06622 David Shoal Apt. 937\\nLake Renee, UT 64263</td>\n",
       "      <td>8</td>\n",
       "      <td>2013-02-04T17:19:09</td>\n",
       "    </tr>\n",
       "    <tr>\n",
       "      <th>17</th>\n",
       "      <td>Lori Meadows</td>\n",
       "      <td>South Melissastad</td>\n",
       "      <td>Washington</td>\n",
       "      <td>313 Mark Crest Apt. 185\\nWest Richardmouth, AK...</td>\n",
       "      <td>8</td>\n",
       "      <td>2017-12-17T22:35:32</td>\n",
       "    </tr>\n",
       "    <tr>\n",
       "      <th>18</th>\n",
       "      <td>William Brown</td>\n",
       "      <td>Brooksview</td>\n",
       "      <td>Nebraska</td>\n",
       "      <td>967 Cheryl Plains\\nNorth Kimville, MN 50843</td>\n",
       "      <td>7</td>\n",
       "      <td>2017-04-25T17:05:12</td>\n",
       "    </tr>\n",
       "    <tr>\n",
       "      <th>19</th>\n",
       "      <td>Donald Kennedy</td>\n",
       "      <td>Robertton</td>\n",
       "      <td>Idaho</td>\n",
       "      <td>Unit 1515 Box 4635\\nDPO AP 27254</td>\n",
       "      <td>9</td>\n",
       "      <td>2008-07-17T17:54:12</td>\n",
       "    </tr>\n",
       "  </tbody>\n",
       "</table>\n",
       "</div>"
      ],
      "text/plain": [
       "                 name               city           state  \\\n",
       "0      Matthew Snyder   Port Christopher    Rhode Island   \n",
       "1     Monique Kaufman         Strongfort   Massachusetts   \n",
       "2      Brian Anderson         Deleonberg        Maryland   \n",
       "3      Robert Johnson       New Kimberly   New Hampshire   \n",
       "4         David Colon       East Richard           Texas   \n",
       "5        Kyle Watkins        Patrickberg           Maine   \n",
       "6       Diana Fischer  West Jonathanport  South Carolina   \n",
       "7       Bradley Brown         Floresview         Florida   \n",
       "8   Stephanie Leonard         Aaronville            Ohio   \n",
       "9       Michael Terry      East Nicholas      California   \n",
       "10      Erica Burgess          Rubioview        Delaware   \n",
       "11       Katelyn Diaz      New Karaburgh        Oklahoma   \n",
       "12      Joseph Dudley      Christinefort        Kentucky   \n",
       "13         Juan Hines           Maryside        Missouri   \n",
       "14  Alexandria Hester         East David       Minnesota   \n",
       "15   Ashley Rodriguez       Andersonberg    Pennsylvania   \n",
       "16          Sean Hunt       Moralesmouth        Delaware   \n",
       "17       Lori Meadows  South Melissastad      Washington   \n",
       "18      William Brown         Brooksview        Nebraska   \n",
       "19     Donald Kennedy          Robertton           Idaho   \n",
       "\n",
       "                                              address  xt/id  \\\n",
       "0   98912 Lauren Alley Apt. 104\\nNorth Davidcheste...      2   \n",
       "1     255 Robert Lights Apt. 802\\nPort Lisa, RI 99031      7   \n",
       "2   269 Tucker Heights Suite 011\\nMartinville, OR ...      3   \n",
       "3    71617 Huang Ramp\\nNorth Nathanielshire, RI 14862      4   \n",
       "4                    Unit 8047 Box 1890\\nDPO AA 32252      7   \n",
       "5               1520 Lori Plaza\\nLake Kelly, VT 77251      4   \n",
       "6                  003 Rosario Ramp\\nRayton, MS 93366      2   \n",
       "7   93212 Carrillo Junctions\\nCardenashaven, CA 50600      6   \n",
       "8            668 Short Knolls\\nMargaretfort, ME 97472      4   \n",
       "9               52143 Leah Run\\nDaltonshire, NM 74899      3   \n",
       "10         1738 Kevin Extension\\nMorrowtown, AZ 85363      8   \n",
       "11  629 Austin Pines Apt. 086\\nPort Benjamin, CT 5...      1   \n",
       "12     3608 Wendy Land Suite 886\\nShanefort, WI 33849      1   \n",
       "13             847 Julie Cliff\\nJacksonbury, ND 17091      8   \n",
       "14  54196 Patrick Garden Suite 682\\nSouth Barryvie...      2   \n",
       "15    163 Morris Mill Apt. 546\\nChavezmouth, AL 94429     10   \n",
       "16   06622 David Shoal Apt. 937\\nLake Renee, UT 64263      8   \n",
       "17  313 Mark Crest Apt. 185\\nWest Richardmouth, AK...      8   \n",
       "18        967 Cheryl Plains\\nNorth Kimville, MN 50843      7   \n",
       "19                   Unit 1515 Box 4635\\nDPO AP 27254      9   \n",
       "\n",
       "       observation-date  \n",
       "0   2013-04-05T01:04:05  \n",
       "1   2019-07-25T10:56:13  \n",
       "2   2015-10-26T01:26:58  \n",
       "3   2008-11-30T11:14:10  \n",
       "4   2019-12-04T03:23:16  \n",
       "5   2010-05-07T00:54:12  \n",
       "6   2021-06-26T16:33:13  \n",
       "7   2011-06-03T09:31:14  \n",
       "8   2012-11-22T12:08:29  \n",
       "9   2008-09-07T09:40:11  \n",
       "10  2017-05-21T17:56:54  \n",
       "11  2009-08-27T12:05:29  \n",
       "12  2019-10-12T03:19:55  \n",
       "13  2017-12-03T08:35:31  \n",
       "14  2014-12-14T04:01:07  \n",
       "15  2015-12-10T11:34:07  \n",
       "16  2013-02-04T17:19:09  \n",
       "17  2017-12-17T22:35:32  \n",
       "18  2017-04-25T17:05:12  \n",
       "19  2008-07-17T17:54:12  "
      ]
     },
     "execution_count": 4,
     "metadata": {},
     "output_type": "execute_result"
    }
   ],
   "source": [
    "pd.DataFrame(docs)"
   ]
  },
  {
   "cell_type": "markdown",
   "id": "8193b27d-dfba-4dd7-9d0b-964f6a10fa0c",
   "metadata": {},
   "source": [
    "We can transact those documents into xtdb with the following: "
   ]
  },
  {
   "cell_type": "code",
   "execution_count": 5,
   "id": "dbe8b23a-2174-4fb3-b963-db63f4a0de0b",
   "metadata": {},
   "outputs": [
    {
     "data": {
      "text/plain": [
       "{'txId': 0, 'txTime': '2022-05-17T03:59:31Z'}"
      ]
     },
     "execution_count": 5,
     "metadata": {},
     "output_type": "execute_result"
    }
   ],
   "source": [
    "xt.submit_tx(host=\"http://localhost:3001\", recs=docs)"
   ]
  },
  {
   "cell_type": "markdown",
   "id": "2f924f8e-127c-43c7-8556-44de7bc444d1",
   "metadata": {},
   "source": [
    "And now we should see some key stats: "
   ]
  },
  {
   "cell_type": "code",
   "execution_count": 6,
   "id": "4dda68af-20a3-4d44-9879-dac135fe9c28",
   "metadata": {},
   "outputs": [
    {
     "data": {
      "text/plain": [
       "{'address': 20,\n",
       " 'name': 20,\n",
       " 'city': 20,\n",
       " 'observation-date': 20,\n",
       " 'state': 20,\n",
       " 'xt/id': 20}"
      ]
     },
     "execution_count": 6,
     "metadata": {},
     "output_type": "execute_result"
    }
   ],
   "source": [
    "xt.attribute_stats()"
   ]
  },
  {
   "cell_type": "markdown",
   "id": "a201bbe4-137b-4280-84cb-f2f284a204aa",
   "metadata": {},
   "source": [
    "To query them something like this should work:"
   ]
  },
  {
   "cell_type": "code",
   "execution_count": 7,
   "id": "19604289-dcea-4151-8373-7b628965990b",
   "metadata": {},
   "outputs": [
    {
     "data": {
      "text/plain": [
       "[[{'address': '3608 Wendy Land Suite 886\\nShanefort, WI 33849',\n",
       "   'name': 'Joseph Dudley',\n",
       "   'city': 'Christinefort',\n",
       "   'observation-date': '2019-10-12T03:19:55',\n",
       "   'state': 'Kentucky',\n",
       "   'xt/id': 1}],\n",
       " [{'address': '54196 Patrick Garden Suite 682\\nSouth Barryview, MT 56518',\n",
       "   'name': 'Alexandria Hester',\n",
       "   'city': 'East David',\n",
       "   'observation-date': '2014-12-14T04:01:07',\n",
       "   'state': 'Minnesota',\n",
       "   'xt/id': 2}]]"
      ]
     },
     "execution_count": 7,
     "metadata": {},
     "output_type": "execute_result"
    }
   ],
   "source": [
    "xt.query_edn(host=\"http://localhost:3001\", \n",
    "             data=\"\"\"\n",
    "          {:query {:find [ (pull ?id [*])]         \n",
    "         :where [[?id :xt/id]\n",
    "                 [?id :name ?name]\n",
    "                 [?id :address ?address]]\n",
    "         :limit 2}}             \n",
    "             \"\"\")  \n",
    "    "
   ]
  },
  {
   "cell_type": "markdown",
   "id": "fb525ac1-19ad-491d-81da-f2161b06370f",
   "metadata": {},
   "source": [
    "If you pass `:keys` into an xtdb query this could be read directly into a dataframe:"
   ]
  },
  {
   "cell_type": "code",
   "execution_count": 8,
   "id": "01c6ebef-a86d-48c6-a548-38d72d49d6f5",
   "metadata": {},
   "outputs": [
    {
     "data": {
      "text/html": [
       "<div>\n",
       "<style scoped>\n",
       "    .dataframe tbody tr th:only-of-type {\n",
       "        vertical-align: middle;\n",
       "    }\n",
       "\n",
       "    .dataframe tbody tr th {\n",
       "        vertical-align: top;\n",
       "    }\n",
       "\n",
       "    .dataframe thead th {\n",
       "        text-align: right;\n",
       "    }\n",
       "</style>\n",
       "<table border=\"1\" class=\"dataframe\">\n",
       "  <thead>\n",
       "    <tr style=\"text-align: right;\">\n",
       "      <th></th>\n",
       "      <th>name</th>\n",
       "      <th>city</th>\n",
       "    </tr>\n",
       "  </thead>\n",
       "  <tbody>\n",
       "    <tr>\n",
       "      <th>0</th>\n",
       "      <td>Joseph Dudley</td>\n",
       "      <td>Christinefort</td>\n",
       "    </tr>\n",
       "    <tr>\n",
       "      <th>1</th>\n",
       "      <td>Alexandria Hester</td>\n",
       "      <td>East David</td>\n",
       "    </tr>\n",
       "    <tr>\n",
       "      <th>2</th>\n",
       "      <td>Michael Terry</td>\n",
       "      <td>East Nicholas</td>\n",
       "    </tr>\n",
       "    <tr>\n",
       "      <th>3</th>\n",
       "      <td>Stephanie Leonard</td>\n",
       "      <td>Aaronville</td>\n",
       "    </tr>\n",
       "    <tr>\n",
       "      <th>4</th>\n",
       "      <td>Bradley Brown</td>\n",
       "      <td>Floresview</td>\n",
       "    </tr>\n",
       "    <tr>\n",
       "      <th>5</th>\n",
       "      <td>William Brown</td>\n",
       "      <td>Brooksview</td>\n",
       "    </tr>\n",
       "    <tr>\n",
       "      <th>6</th>\n",
       "      <td>Lori Meadows</td>\n",
       "      <td>South Melissastad</td>\n",
       "    </tr>\n",
       "    <tr>\n",
       "      <th>7</th>\n",
       "      <td>Donald Kennedy</td>\n",
       "      <td>Robertton</td>\n",
       "    </tr>\n",
       "    <tr>\n",
       "      <th>8</th>\n",
       "      <td>Ashley Rodriguez</td>\n",
       "      <td>Andersonberg</td>\n",
       "    </tr>\n",
       "  </tbody>\n",
       "</table>\n",
       "</div>"
      ],
      "text/plain": [
       "                name               city\n",
       "0      Joseph Dudley      Christinefort\n",
       "1  Alexandria Hester         East David\n",
       "2      Michael Terry      East Nicholas\n",
       "3  Stephanie Leonard         Aaronville\n",
       "4      Bradley Brown         Floresview\n",
       "5      William Brown         Brooksview\n",
       "6       Lori Meadows  South Melissastad\n",
       "7     Donald Kennedy          Robertton\n",
       "8   Ashley Rodriguez       Andersonberg"
      ]
     },
     "execution_count": 8,
     "metadata": {},
     "output_type": "execute_result"
    }
   ],
   "source": [
    "\n",
    "pd.DataFrame(\n",
    "xt.query_edn(host=\"http://localhost:3001\", \n",
    "             data=\"\"\"\n",
    "          {\n",
    "         :query {:find [?name ?city]         \n",
    "         :keys [name city] \n",
    "         :where [[?id :city ?city]\n",
    "                 [?id :name ?name]\n",
    "                 ]\n",
    "         :limit 200}}             \n",
    "             \"\"\"))\n",
    "\n",
    "    "
   ]
  },
  {
   "cell_type": "markdown",
   "id": "686ba01d-e2d1-4112-a0bd-d439285c8c0f",
   "metadata": {},
   "source": [
    "You can grab a specific entity with `xt.entity`: "
   ]
  },
  {
   "cell_type": "code",
   "execution_count": 9,
   "id": "d86ec21e-17f6-4597-820a-89d1878a6d91",
   "metadata": {},
   "outputs": [
    {
     "data": {
      "text/plain": [
       "{'address': '3608 Wendy Land Suite 886\\nShanefort, WI 33849',\n",
       " 'name': 'Joseph Dudley',\n",
       " 'city': 'Christinefort',\n",
       " 'observation-date': '2019-10-12T03:19:55',\n",
       " 'state': 'Kentucky',\n",
       " 'xt/id': 1}"
      ]
     },
     "execution_count": 9,
     "metadata": {},
     "output_type": "execute_result"
    }
   ],
   "source": [
    "our_doc = xt.entity_json(params={\"eid-json\":\"1\"})\n",
    "our_doc"
   ]
  },
  {
   "cell_type": "markdown",
   "id": "7426383a-e683-442a-a133-36f832266141",
   "metadata": {},
   "source": [
    "We can add some history for this id.  Add a fav number: "
   ]
  },
  {
   "cell_type": "code",
   "execution_count": 10,
   "id": "c175e894-f21c-4225-9a3d-d51c36b16c39",
   "metadata": {},
   "outputs": [],
   "source": [
    "our_doc['fav-number'] = 9\n"
   ]
  },
  {
   "cell_type": "code",
   "execution_count": 11,
   "id": "5ef8ac01-f5d1-4751-bd92-e4325a82f194",
   "metadata": {},
   "outputs": [
    {
     "data": {
      "text/plain": [
       "{'txId': 1, 'txTime': '2022-05-17T03:59:42Z'}"
      ]
     },
     "execution_count": 11,
     "metadata": {},
     "output_type": "execute_result"
    }
   ],
   "source": [
    "xt.submit_tx(recs=[our_doc,]) "
   ]
  },
  {
   "cell_type": "markdown",
   "id": "20d587ee-43f6-4644-92b5-e53b4bcb6eaf",
   "metadata": {},
   "source": [
    "Now we can see some doc history:"
   ]
  },
  {
   "cell_type": "code",
   "execution_count": 12,
   "id": "40ed21d7-7163-49ff-8f29-47122835e38b",
   "metadata": {},
   "outputs": [
    {
     "data": {
      "text/plain": [
       "[{'txTime': '2022-05-17T03:59:42Z',\n",
       "  'txId': 1,\n",
       "  'validTime': '2022-05-17T03:59:42Z',\n",
       "  'contentHash': '55f7d009bb175cddc9056f37f62db9d24471beef',\n",
       "  'doc': {'address': '3608 Wendy Land Suite 886\\nShanefort, WI 33849',\n",
       "   'fav-number': 9,\n",
       "   'name': 'Joseph Dudley',\n",
       "   'city': 'Christinefort',\n",
       "   'observation-date': '2019-10-12T03:19:55',\n",
       "   'state': 'Kentucky',\n",
       "   'xt/id': 1}},\n",
       " {'txTime': '2022-05-17T03:59:31Z',\n",
       "  'txId': 0,\n",
       "  'validTime': '2022-05-17T03:59:31Z',\n",
       "  'contentHash': 'a1011eb66184023a7b1134349dc6065038914db1',\n",
       "  'doc': {'address': '3608 Wendy Land Suite 886\\nShanefort, WI 33849',\n",
       "   'name': 'Joseph Dudley',\n",
       "   'city': 'Christinefort',\n",
       "   'observation-date': '2019-10-12T03:19:55',\n",
       "   'state': 'Kentucky',\n",
       "   'xt/id': 1}}]"
      ]
     },
     "execution_count": 12,
     "metadata": {},
     "output_type": "execute_result"
    }
   ],
   "source": [
    "xt.entity_json(params={\"eid-json\":\"1\",  \"with-docs\": \"true\", \"history\": \"true\", \"sort-order\": \"desc\"})"
   ]
  },
  {
   "cell_type": "markdown",
   "id": "7c6afcf2-47ee-4eec-9a82-ccea613861e4",
   "metadata": {},
   "source": [
    "----\n",
    "Lets add some additional fake docs and try one of the lucene queries: "
   ]
  },
  {
   "cell_type": "code",
   "execution_count": 15,
   "id": "be057bf5-9121-455e-ae2b-25a18f07a845",
   "metadata": {},
   "outputs": [],
   "source": [
    "from toolz import partition_all "
   ]
  },
  {
   "cell_type": "code",
   "execution_count": 13,
   "id": "74c0b41e-8c30-4027-a420-8782f75ba048",
   "metadata": {},
   "outputs": [],
   "source": [
    "docs = [fake_doc() for _ in range(5000)] "
   ]
  },
  {
   "cell_type": "markdown",
   "id": "8d9dbcc2-c6d9-470d-bc8f-869bce072ce7",
   "metadata": {},
   "source": [
    "We might want to batch up some transactions and we could use toolz's partition; here i'm batching docs into partitions at most 300 long:"
   ]
  },
  {
   "cell_type": "code",
   "execution_count": 17,
   "id": "51387e38-442d-461d-8214-ab619f36efec",
   "metadata": {},
   "outputs": [
    {
     "data": {
      "text/plain": [
       "[{'txId': 2, 'txTime': '2022-05-17T04:02:12Z'},\n",
       " {'txId': 3, 'txTime': '2022-05-17T04:02:12Z'},\n",
       " {'txId': 4, 'txTime': '2022-05-17T04:02:12Z'},\n",
       " {'txId': 5, 'txTime': '2022-05-17T04:02:12Z'},\n",
       " {'txId': 6, 'txTime': '2022-05-17T04:02:12Z'},\n",
       " {'txId': 7, 'txTime': '2022-05-17T04:02:12Z'},\n",
       " {'txId': 8, 'txTime': '2022-05-17T04:02:12Z'},\n",
       " {'txId': 9, 'txTime': '2022-05-17T04:02:12Z'},\n",
       " {'txId': 10, 'txTime': '2022-05-17T04:02:12Z'},\n",
       " {'txId': 11, 'txTime': '2022-05-17T04:02:12Z'},\n",
       " {'txId': 12, 'txTime': '2022-05-17T04:02:12Z'},\n",
       " {'txId': 13, 'txTime': '2022-05-17T04:02:12Z'},\n",
       " {'txId': 14, 'txTime': '2022-05-17T04:02:13Z'},\n",
       " {'txId': 15, 'txTime': '2022-05-17T04:02:13Z'},\n",
       " {'txId': 16, 'txTime': '2022-05-17T04:02:13Z'},\n",
       " {'txId': 17, 'txTime': '2022-05-17T04:02:13Z'},\n",
       " {'txId': 18, 'txTime': '2022-05-17T04:02:13Z'}]"
      ]
     },
     "execution_count": 17,
     "metadata": {},
     "output_type": "execute_result"
    }
   ],
   "source": [
    "[xt.submit_tx(host=\"http://localhost:3001\", recs=docs_batch) for docs_batch in partition_all(300, docs)] "
   ]
  },
  {
   "cell_type": "code",
   "execution_count": 18,
   "id": "d8271444-7cc7-4761-8e1f-5a18c6fdb790",
   "metadata": {},
   "outputs": [
    {
     "data": {
      "text/plain": [
       "{'address': 5021,\n",
       " 'fav-number': 1,\n",
       " 'name': 5021,\n",
       " 'city': 5021,\n",
       " 'observation-date': 5021,\n",
       " 'state': 5021,\n",
       " 'xt/id': 5021}"
      ]
     },
     "execution_count": 18,
     "metadata": {},
     "output_type": "execute_result"
    }
   ],
   "source": [
    "xt.attribute_stats()"
   ]
  },
  {
   "cell_type": "markdown",
   "id": "825a24bc-32ce-42de-9254-80ee4e92af27",
   "metadata": {},
   "source": [
    "TODO Probably need to think about the equivelent of sql injection if you are doing anything like this with string manipulation.  It would probably be better to use XT's `:in` parameters."
   ]
  },
  {
   "cell_type": "code",
   "execution_count": 37,
   "id": "9a66f4cb-bffa-4a62-94c3-103407c22f86",
   "metadata": {},
   "outputs": [
    {
     "data": {
      "text/plain": [
       "[{'matched-attribute': 'address',\n",
       "  'matched-score': 0.9839632511138916,\n",
       "  'results': {'address': '1017 Jerry Road Apt. 381\\nPort Sandramouth, VA 61208',\n",
       "   'name': 'Michael Davis',\n",
       "   'city': 'Josephside',\n",
       "   'observation-date': '2020-12-08T00:18:55',\n",
       "   'state': 'North Carolina',\n",
       "   'xt/id': 2}},\n",
       " {'matched-attribute': 'name',\n",
       "  'matched-score': 0.9678977131843567,\n",
       "  'results': {'address': '890 Charles Cove\\nSamanthashire, VA 60393',\n",
       "   'name': 'Robert York',\n",
       "   'city': 'Mariachester',\n",
       "   'observation-date': '2010-07-12T02:11:07',\n",
       "   'state': 'Virginia',\n",
       "   'xt/id': 3}},\n",
       " {'matched-attribute': 'address',\n",
       "  'matched-score': 0.7379724979400635,\n",
       "  'results': {'address': '50177 Sanchez Fork Apt. 193\\nWest Peterberg, MA 21099',\n",
       "   'name': 'Jacqueline Khan',\n",
       "   'city': 'East Lindseyton',\n",
       "   'observation-date': '2010-02-13T07:12:13',\n",
       "   'state': 'Nebraska',\n",
       "   'xt/id': 8}}]"
      ]
     },
     "metadata": {},
     "output_type": "display_data"
    },
    {
     "data": {
      "text/html": [
       "<div>\n",
       "<style scoped>\n",
       "    .dataframe tbody tr th:only-of-type {\n",
       "        vertical-align: middle;\n",
       "    }\n",
       "\n",
       "    .dataframe tbody tr th {\n",
       "        vertical-align: top;\n",
       "    }\n",
       "\n",
       "    .dataframe thead th {\n",
       "        text-align: right;\n",
       "    }\n",
       "</style>\n",
       "<table border=\"1\" class=\"dataframe\">\n",
       "  <thead>\n",
       "    <tr style=\"text-align: right;\">\n",
       "      <th></th>\n",
       "      <th>matched-attribute</th>\n",
       "      <th>matched-score</th>\n",
       "      <th>results</th>\n",
       "    </tr>\n",
       "  </thead>\n",
       "  <tbody>\n",
       "    <tr>\n",
       "      <th>0</th>\n",
       "      <td>address</td>\n",
       "      <td>0.983963</td>\n",
       "      <td>{'address': '1017 Jerry Road Apt. 381\n",
       "Port San...</td>\n",
       "    </tr>\n",
       "    <tr>\n",
       "      <th>1</th>\n",
       "      <td>name</td>\n",
       "      <td>0.967898</td>\n",
       "      <td>{'address': '890 Charles Cove\n",
       "Samanthashire, V...</td>\n",
       "    </tr>\n",
       "    <tr>\n",
       "      <th>2</th>\n",
       "      <td>address</td>\n",
       "      <td>0.737972</td>\n",
       "      <td>{'address': '50177 Sanchez Fork Apt. 193\n",
       "West ...</td>\n",
       "    </tr>\n",
       "  </tbody>\n",
       "</table>\n",
       "</div>"
      ],
      "text/plain": [
       "  matched-attribute  matched-score  \\\n",
       "0           address       0.983963   \n",
       "1              name       0.967898   \n",
       "2           address       0.737972   \n",
       "\n",
       "                                             results  \n",
       "0  {'address': '1017 Jerry Road Apt. 381\n",
       "Port San...  \n",
       "1  {'address': '890 Charles Cove\n",
       "Samanthashire, V...  \n",
       "2  {'address': '50177 Sanchez Fork Apt. 193\n",
       "West ...  "
      ]
     },
     "execution_count": 37,
     "metadata": {},
     "output_type": "execute_result"
    }
   ],
   "source": [
    "search_term = \"ford~\"\n",
    "\n",
    "edn_query = \"\"\"\n",
    "{:query \n",
    "{:find [?attribute\n",
    "         ?score\n",
    "         (pull ?id [*])]\n",
    "  :keys [matched-attribute matched-score results]               \n",
    "  :where [[(wildcard-text-search \"%s\") [[?id ?value ?attribute ?score]]]\n",
    "          [?id :xt/id]                 \n",
    "          ]\n",
    "  :limit 30}  }\"\"\" % search_term \n",
    "\n",
    "results = xt.query_edn(host=\"http://localhost:3001\", \n",
    "             data=edn_query)\n",
    "display(results) \n",
    "pd.DataFrame(results)"
   ]
  }
 ],
 "metadata": {
  "kernelspec": {
   "display_name": "Python 3 (ipykernel)",
   "language": "python",
   "name": "python3"
  },
  "language_info": {
   "codemirror_mode": {
    "name": "ipython",
    "version": 3
   },
   "file_extension": ".py",
   "mimetype": "text/x-python",
   "name": "python",
   "nbconvert_exporter": "python",
   "pygments_lexer": "ipython3",
   "version": "3.10.4"
  }
 },
 "nbformat": 4,
 "nbformat_minor": 5
}
