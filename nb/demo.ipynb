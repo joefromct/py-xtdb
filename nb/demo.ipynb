{
 "cells": [
  {
   "cell_type": "markdown",
   "id": "d3538a41-b82b-4330-bff5-31109eee0427",
   "metadata": {},
   "source": [
    "Using xtdb via http python requests."
   ]
  },
  {
   "cell_type": "code",
   "execution_count": 1,
   "id": "14787c8a-fb1c-48d4-b476-f9b8e90252d3",
   "metadata": {},
   "outputs": [],
   "source": [
    "import py_xtdb as xt\n",
    "import pandas as pd"
   ]
  },
  {
   "cell_type": "markdown",
   "id": "aa323db0-ed60-453c-98dc-f89a0b2de2fc",
   "metadata": {},
   "source": [
    "we can check if a server is running with `xt.status()`."
   ]
  },
  {
   "cell_type": "code",
   "execution_count": 2,
   "id": "b1d4373c-8bd8-4da7-8a98-f5d11adf79a3",
   "metadata": {},
   "outputs": [
    {
     "data": {
      "text/plain": [
       "{'version': '1.21.0',\n",
       " 'revision': 'db66ed6d3aa4e814ba34e988a5d898381dec6c81',\n",
       " 'kvStore': 'xtdb.rocksdb.RocksKv',\n",
       " 'estimateNumKeys': 1,\n",
       " 'size': 29592,\n",
       " 'indexVersion': 20,\n",
       " 'consumerState': None}"
      ]
     },
     "execution_count": 2,
     "metadata": {},
     "output_type": "execute_result"
    }
   ],
   "source": [
    "xt.status(host=\"http://localhost:3001\")"
   ]
  },
  {
   "cell_type": "markdown",
   "id": "4063b4af-ae1f-41c1-b2d8-331e8ba1c00a",
   "metadata": {},
   "source": [
    "(You'll probably have no keys if this is your first go)"
   ]
  },
  {
   "cell_type": "markdown",
   "id": "d5bc8879-64a1-4245-88e4-634e93787090",
   "metadata": {},
   "source": [
    "We'll create some fake data to transact with python's faker."
   ]
  },
  {
   "cell_type": "code",
   "execution_count": 3,
   "id": "b01db7b5-2cfb-4972-83a8-bd37cbdbd887",
   "metadata": {},
   "outputs": [],
   "source": [
    "from faker import Faker\n",
    "import random \n",
    "fake = Faker()\n",
    "\n",
    "def fake_doc():\n",
    "    return {\"name\"    : fake.name()    ,\n",
    "            \"city\"    : fake.city()    ,\n",
    "            \"state\"   : fake.state()   ,\n",
    "            \"address\" : fake.address() ,\n",
    "            #\"xt/id\"   : random.randint(1, 10),\n",
    "            \"xt/id\"      : str(fake.uuid4()),\n",
    "            \"observation-date\": fake.date_time_between(start_date='-15yr', end_date='now').isoformat(),\n",
    "            }\n",
    "\n",
    "docs = [fake_doc() for _ in range(20)] "
   ]
  },
  {
   "cell_type": "code",
   "execution_count": 5,
   "id": "0eefaec8-e138-4980-ba2f-a4f3f404865a",
   "metadata": {},
   "outputs": [
    {
     "data": {
      "text/html": [
       "<div>\n",
       "<style scoped>\n",
       "    .dataframe tbody tr th:only-of-type {\n",
       "        vertical-align: middle;\n",
       "    }\n",
       "\n",
       "    .dataframe tbody tr th {\n",
       "        vertical-align: top;\n",
       "    }\n",
       "\n",
       "    .dataframe thead th {\n",
       "        text-align: right;\n",
       "    }\n",
       "</style>\n",
       "<table border=\"1\" class=\"dataframe\">\n",
       "  <thead>\n",
       "    <tr style=\"text-align: right;\">\n",
       "      <th></th>\n",
       "      <th>name</th>\n",
       "      <th>city</th>\n",
       "      <th>state</th>\n",
       "      <th>address</th>\n",
       "      <th>xt/id</th>\n",
       "      <th>observation-date</th>\n",
       "    </tr>\n",
       "  </thead>\n",
       "  <tbody>\n",
       "    <tr>\n",
       "      <th>0</th>\n",
       "      <td>Courtney Swanson</td>\n",
       "      <td>North Heatherhaven</td>\n",
       "      <td>Florida</td>\n",
       "      <td>3650 Huynh Tunnel\\nLake Aliciafort, DC 49657</td>\n",
       "      <td>ce613502-0926-4957-975d-a067a36ccf5d</td>\n",
       "      <td>2018-08-26T10:06:47</td>\n",
       "    </tr>\n",
       "    <tr>\n",
       "      <th>1</th>\n",
       "      <td>Stephanie Colon</td>\n",
       "      <td>Makaylaburgh</td>\n",
       "      <td>North Carolina</td>\n",
       "      <td>07405 Davis Trafficway Apt. 328\\nSonyaside, SD...</td>\n",
       "      <td>9306eed4-f518-4afa-821a-4d84eafda027</td>\n",
       "      <td>2012-04-01T11:28:24</td>\n",
       "    </tr>\n",
       "    <tr>\n",
       "      <th>2</th>\n",
       "      <td>Melanie Boone</td>\n",
       "      <td>Brendachester</td>\n",
       "      <td>Connecticut</td>\n",
       "      <td>097 Scott Route Apt. 250\\nWest Reginaberg, NC ...</td>\n",
       "      <td>e984bce4-8218-4e0a-ad2d-109dae04c972</td>\n",
       "      <td>2012-01-30T10:40:06</td>\n",
       "    </tr>\n",
       "    <tr>\n",
       "      <th>3</th>\n",
       "      <td>Samantha Cameron</td>\n",
       "      <td>North John</td>\n",
       "      <td>Arizona</td>\n",
       "      <td>2446 Alvarez Highway Suite 844\\nNew Daniel, WA...</td>\n",
       "      <td>e2e35743-3c51-4136-90bd-7b55be258489</td>\n",
       "      <td>2022-02-16T00:03:40</td>\n",
       "    </tr>\n",
       "    <tr>\n",
       "      <th>4</th>\n",
       "      <td>Renee Salinas</td>\n",
       "      <td>Shelbyberg</td>\n",
       "      <td>Rhode Island</td>\n",
       "      <td>067 Wilson Villages Suite 251\\nSouth Katrinavi...</td>\n",
       "      <td>3146f6c1-dfaa-479d-9480-ab21c8601c2d</td>\n",
       "      <td>2013-04-14T23:06:49</td>\n",
       "    </tr>\n",
       "  </tbody>\n",
       "</table>\n",
       "</div>"
      ],
      "text/plain": [
       "               name                city           state  \\\n",
       "0  Courtney Swanson  North Heatherhaven         Florida   \n",
       "1   Stephanie Colon        Makaylaburgh  North Carolina   \n",
       "2     Melanie Boone       Brendachester     Connecticut   \n",
       "3  Samantha Cameron          North John         Arizona   \n",
       "4     Renee Salinas          Shelbyberg    Rhode Island   \n",
       "\n",
       "                                             address  \\\n",
       "0       3650 Huynh Tunnel\\nLake Aliciafort, DC 49657   \n",
       "1  07405 Davis Trafficway Apt. 328\\nSonyaside, SD...   \n",
       "2  097 Scott Route Apt. 250\\nWest Reginaberg, NC ...   \n",
       "3  2446 Alvarez Highway Suite 844\\nNew Daniel, WA...   \n",
       "4  067 Wilson Villages Suite 251\\nSouth Katrinavi...   \n",
       "\n",
       "                                  xt/id     observation-date  \n",
       "0  ce613502-0926-4957-975d-a067a36ccf5d  2018-08-26T10:06:47  \n",
       "1  9306eed4-f518-4afa-821a-4d84eafda027  2012-04-01T11:28:24  \n",
       "2  e984bce4-8218-4e0a-ad2d-109dae04c972  2012-01-30T10:40:06  \n",
       "3  e2e35743-3c51-4136-90bd-7b55be258489  2022-02-16T00:03:40  \n",
       "4  3146f6c1-dfaa-479d-9480-ab21c8601c2d  2013-04-14T23:06:49  "
      ]
     },
     "execution_count": 5,
     "metadata": {},
     "output_type": "execute_result"
    }
   ],
   "source": [
    "pd.DataFrame(docs).head()"
   ]
  },
  {
   "cell_type": "markdown",
   "id": "8193b27d-dfba-4dd7-9d0b-964f6a10fa0c",
   "metadata": {},
   "source": [
    "We can transact those documents into xtdb with the following: "
   ]
  },
  {
   "cell_type": "code",
   "execution_count": 6,
   "id": "dbe8b23a-2174-4fb3-b963-db63f4a0de0b",
   "metadata": {},
   "outputs": [
    {
     "data": {
      "text/plain": [
       "{'txId': 0, 'txTime': '2022-05-17T05:56:25Z'}"
      ]
     },
     "execution_count": 6,
     "metadata": {},
     "output_type": "execute_result"
    }
   ],
   "source": [
    "xt.submit_tx(host=\"http://localhost:3001\", docs=docs)"
   ]
  },
  {
   "cell_type": "markdown",
   "id": "2f924f8e-127c-43c7-8556-44de7bc444d1",
   "metadata": {},
   "source": [
    "And now we should see some key stats: "
   ]
  },
  {
   "cell_type": "code",
   "execution_count": 7,
   "id": "4dda68af-20a3-4d44-9879-dac135fe9c28",
   "metadata": {},
   "outputs": [
    {
     "data": {
      "text/plain": [
       "{'address': 20,\n",
       " 'name': 20,\n",
       " 'city': 20,\n",
       " 'observation-date': 20,\n",
       " 'state': 20,\n",
       " 'xt/id': 20}"
      ]
     },
     "execution_count": 7,
     "metadata": {},
     "output_type": "execute_result"
    }
   ],
   "source": [
    "xt.attribute_stats()"
   ]
  },
  {
   "cell_type": "markdown",
   "id": "a201bbe4-137b-4280-84cb-f2f284a204aa",
   "metadata": {},
   "source": [
    "To query them something like this should work:"
   ]
  },
  {
   "cell_type": "code",
   "execution_count": 8,
   "id": "19604289-dcea-4151-8373-7b628965990b",
   "metadata": {},
   "outputs": [
    {
     "data": {
      "text/plain": [
       "[[{'address': 'Unit 4441 Box 0757\\nDPO AP 77979',\n",
       "   'name': 'Nicholas Morgan',\n",
       "   'city': 'Port Jennifer',\n",
       "   'observation-date': '2019-09-20T11:43:53',\n",
       "   'state': 'Indiana',\n",
       "   'xt/id': '0dd21fef-a88d-4237-9bcc-a143d5530cd7'}],\n",
       " [{'address': '047 Lauren Trace Apt. 159\\nPort Nicholas, RI 65034',\n",
       "   'name': 'Laura Liu',\n",
       "   'city': 'South Rachelview',\n",
       "   'observation-date': '2008-03-06T06:59:13',\n",
       "   'state': 'Illinois',\n",
       "   'xt/id': '247cb3c6-0f01-4b10-aee5-201a1a5497d1'}]]"
      ]
     },
     "execution_count": 8,
     "metadata": {},
     "output_type": "execute_result"
    }
   ],
   "source": [
    "xt.query_edn(host=\"http://localhost:3001\", \n",
    "             data=\"\"\"\n",
    "          {:query {:find [ (pull ?id [*])]         \n",
    "         :where [[?id :xt/id]\n",
    "                 [?id :name ?name]\n",
    "                 [?id :address ?address]]\n",
    "         :limit 2}}             \n",
    "             \"\"\")  \n",
    "    "
   ]
  },
  {
   "cell_type": "markdown",
   "id": "fb525ac1-19ad-491d-81da-f2161b06370f",
   "metadata": {},
   "source": [
    "If you pass `:keys` into an xtdb query this could be read directly into a dataframe:"
   ]
  },
  {
   "cell_type": "code",
   "execution_count": 9,
   "id": "01c6ebef-a86d-48c6-a548-38d72d49d6f5",
   "metadata": {},
   "outputs": [
    {
     "data": {
      "text/html": [
       "<div>\n",
       "<style scoped>\n",
       "    .dataframe tbody tr th:only-of-type {\n",
       "        vertical-align: middle;\n",
       "    }\n",
       "\n",
       "    .dataframe tbody tr th {\n",
       "        vertical-align: top;\n",
       "    }\n",
       "\n",
       "    .dataframe thead th {\n",
       "        text-align: right;\n",
       "    }\n",
       "</style>\n",
       "<table border=\"1\" class=\"dataframe\">\n",
       "  <thead>\n",
       "    <tr style=\"text-align: right;\">\n",
       "      <th></th>\n",
       "      <th>id</th>\n",
       "      <th>name</th>\n",
       "      <th>city</th>\n",
       "    </tr>\n",
       "  </thead>\n",
       "  <tbody>\n",
       "    <tr>\n",
       "      <th>0</th>\n",
       "      <td>0dd21fef-a88d-4237-9bcc-a143d5530cd7</td>\n",
       "      <td>Nicholas Morgan</td>\n",
       "      <td>Port Jennifer</td>\n",
       "    </tr>\n",
       "    <tr>\n",
       "      <th>1</th>\n",
       "      <td>247cb3c6-0f01-4b10-aee5-201a1a5497d1</td>\n",
       "      <td>Laura Liu</td>\n",
       "      <td>South Rachelview</td>\n",
       "    </tr>\n",
       "    <tr>\n",
       "      <th>2</th>\n",
       "      <td>2b48606e-a092-49a9-aac3-d125ab4ef4d1</td>\n",
       "      <td>Justin Roman</td>\n",
       "      <td>Lewisbury</td>\n",
       "    </tr>\n",
       "    <tr>\n",
       "      <th>3</th>\n",
       "      <td>3146f6c1-dfaa-479d-9480-ab21c8601c2d</td>\n",
       "      <td>Renee Salinas</td>\n",
       "      <td>Shelbyberg</td>\n",
       "    </tr>\n",
       "    <tr>\n",
       "      <th>4</th>\n",
       "      <td>46d907e9-20b9-43c2-b1b5-b9da9997b3de</td>\n",
       "      <td>Tim Howell</td>\n",
       "      <td>Davisland</td>\n",
       "    </tr>\n",
       "  </tbody>\n",
       "</table>\n",
       "</div>"
      ],
      "text/plain": [
       "                                     id             name              city\n",
       "0  0dd21fef-a88d-4237-9bcc-a143d5530cd7  Nicholas Morgan     Port Jennifer\n",
       "1  247cb3c6-0f01-4b10-aee5-201a1a5497d1        Laura Liu  South Rachelview\n",
       "2  2b48606e-a092-49a9-aac3-d125ab4ef4d1     Justin Roman         Lewisbury\n",
       "3  3146f6c1-dfaa-479d-9480-ab21c8601c2d    Renee Salinas        Shelbyberg\n",
       "4  46d907e9-20b9-43c2-b1b5-b9da9997b3de       Tim Howell         Davisland"
      ]
     },
     "execution_count": 9,
     "metadata": {},
     "output_type": "execute_result"
    }
   ],
   "source": [
    "\n",
    "pd.DataFrame(\n",
    "xt.query_edn(host=\"http://localhost:3001\", \n",
    "             data=\"\"\"\n",
    "          {\n",
    "         :query {:find [?id ?name ?city]         \n",
    "         :keys [id name city] \n",
    "         :where [[?id :city ?city]\n",
    "                 [?id :name ?name]\n",
    "                 ]\n",
    "         :limit 5}}             \n",
    "             \"\"\"))\n",
    "\n",
    "    "
   ]
  },
  {
   "cell_type": "markdown",
   "id": "686ba01d-e2d1-4112-a0bd-d439285c8c0f",
   "metadata": {},
   "source": [
    "You can grab a specific entity with `xt.entity`: "
   ]
  },
  {
   "cell_type": "code",
   "execution_count": 11,
   "id": "d86ec21e-17f6-4597-820a-89d1878a6d91",
   "metadata": {},
   "outputs": [
    {
     "data": {
      "text/plain": [
       "{'address': 'Unit 4441 Box 0757\\nDPO AP 77979',\n",
       " 'name': 'Nicholas Morgan',\n",
       " 'city': 'Port Jennifer',\n",
       " 'observation-date': '2019-09-20T11:43:53',\n",
       " 'state': 'Indiana',\n",
       " 'xt/id': '0dd21fef-a88d-4237-9bcc-a143d5530cd7'}"
      ]
     },
     "execution_count": 11,
     "metadata": {},
     "output_type": "execute_result"
    }
   ],
   "source": [
    "our_doc = xt.entity_json(params={\"eid\":\"0dd21fef-a88d-4237-9bcc-a143d5530cd7\"})\n",
    "our_doc"
   ]
  },
  {
   "cell_type": "markdown",
   "id": "7426383a-e683-442a-a133-36f832266141",
   "metadata": {},
   "source": [
    "We can add some history for this id.  Add a fav number: "
   ]
  },
  {
   "cell_type": "code",
   "execution_count": 12,
   "id": "c175e894-f21c-4225-9a3d-d51c36b16c39",
   "metadata": {},
   "outputs": [],
   "source": [
    "our_doc['fav-number'] = 9\n"
   ]
  },
  {
   "cell_type": "code",
   "execution_count": 13,
   "id": "5ef8ac01-f5d1-4751-bd92-e4325a82f194",
   "metadata": {},
   "outputs": [
    {
     "data": {
      "text/plain": [
       "{'txId': 1, 'txTime': '2022-05-17T05:57:02Z'}"
      ]
     },
     "execution_count": 13,
     "metadata": {},
     "output_type": "execute_result"
    }
   ],
   "source": [
    "xt.submit_tx(docs=[our_doc,]) "
   ]
  },
  {
   "cell_type": "markdown",
   "id": "20d587ee-43f6-4644-92b5-e53b4bcb6eaf",
   "metadata": {},
   "source": [
    "Now we can see some doc history:"
   ]
  },
  {
   "cell_type": "code",
   "execution_count": 17,
   "id": "40ed21d7-7163-49ff-8f29-47122835e38b",
   "metadata": {},
   "outputs": [
    {
     "data": {
      "text/html": [
       "<div>\n",
       "<style scoped>\n",
       "    .dataframe tbody tr th:only-of-type {\n",
       "        vertical-align: middle;\n",
       "    }\n",
       "\n",
       "    .dataframe tbody tr th {\n",
       "        vertical-align: top;\n",
       "    }\n",
       "\n",
       "    .dataframe thead th {\n",
       "        text-align: right;\n",
       "    }\n",
       "</style>\n",
       "<table border=\"1\" class=\"dataframe\">\n",
       "  <thead>\n",
       "    <tr style=\"text-align: right;\">\n",
       "      <th></th>\n",
       "      <th>txTime</th>\n",
       "      <th>txId</th>\n",
       "      <th>validTime</th>\n",
       "      <th>contentHash</th>\n",
       "      <th>doc</th>\n",
       "    </tr>\n",
       "  </thead>\n",
       "  <tbody>\n",
       "    <tr>\n",
       "      <th>0</th>\n",
       "      <td>2022-05-17T05:57:02Z</td>\n",
       "      <td>1</td>\n",
       "      <td>2022-05-17T05:57:02Z</td>\n",
       "      <td>f4625c1ef512833097beb9674705fcd70a229ae4</td>\n",
       "      <td>{'address': 'Unit 4441 Box 0757\n",
       "DPO AP 77979',...</td>\n",
       "    </tr>\n",
       "    <tr>\n",
       "      <th>1</th>\n",
       "      <td>2022-05-17T05:56:25Z</td>\n",
       "      <td>0</td>\n",
       "      <td>2022-05-17T05:56:25Z</td>\n",
       "      <td>85be985975996b645fc3ce0a74df7837f1e9e948</td>\n",
       "      <td>{'address': 'Unit 4441 Box 0757\n",
       "DPO AP 77979',...</td>\n",
       "    </tr>\n",
       "  </tbody>\n",
       "</table>\n",
       "</div>"
      ],
      "text/plain": [
       "                 txTime  txId             validTime  \\\n",
       "0  2022-05-17T05:57:02Z     1  2022-05-17T05:57:02Z   \n",
       "1  2022-05-17T05:56:25Z     0  2022-05-17T05:56:25Z   \n",
       "\n",
       "                                contentHash  \\\n",
       "0  f4625c1ef512833097beb9674705fcd70a229ae4   \n",
       "1  85be985975996b645fc3ce0a74df7837f1e9e948   \n",
       "\n",
       "                                                 doc  \n",
       "0  {'address': 'Unit 4441 Box 0757\n",
       "DPO AP 77979',...  \n",
       "1  {'address': 'Unit 4441 Box 0757\n",
       "DPO AP 77979',...  "
      ]
     },
     "execution_count": 17,
     "metadata": {},
     "output_type": "execute_result"
    }
   ],
   "source": [
    "pd.DataFrame(xt.entity_json(params={\"eid\":\"0dd21fef-a88d-4237-9bcc-a143d5530cd7\",  \"with-docs\": \"true\", \"history\": \"true\", \"sort-order\": \"desc\"}))"
   ]
  },
  {
   "cell_type": "markdown",
   "id": "7c6afcf2-47ee-4eec-9a82-ccea613861e4",
   "metadata": {},
   "source": [
    "----\n",
    "Lets add some additional fake docs and try one of the lucene queries: "
   ]
  },
  {
   "cell_type": "code",
   "execution_count": 18,
   "id": "be057bf5-9121-455e-ae2b-25a18f07a845",
   "metadata": {},
   "outputs": [],
   "source": [
    "from toolz import partition_all "
   ]
  },
  {
   "cell_type": "code",
   "execution_count": 19,
   "id": "74c0b41e-8c30-4027-a420-8782f75ba048",
   "metadata": {},
   "outputs": [],
   "source": [
    "docs = [fake_doc() for _ in range(5000)] "
   ]
  },
  {
   "cell_type": "markdown",
   "id": "8d9dbcc2-c6d9-470d-bc8f-869bce072ce7",
   "metadata": {},
   "source": [
    "We might want to batch up some transactions and we could use toolz's partition; here i'm batching docs into partitions at most 300 long:"
   ]
  },
  {
   "cell_type": "code",
   "execution_count": 20,
   "id": "51387e38-442d-461d-8214-ab619f36efec",
   "metadata": {},
   "outputs": [
    {
     "data": {
      "text/plain": [
       "[{'txId': 2, 'txTime': '2022-05-17T05:57:47Z'},\n",
       " {'txId': 3, 'txTime': '2022-05-17T05:57:47Z'},\n",
       " {'txId': 4, 'txTime': '2022-05-17T05:57:47Z'},\n",
       " {'txId': 5, 'txTime': '2022-05-17T05:57:47Z'},\n",
       " {'txId': 6, 'txTime': '2022-05-17T05:57:47Z'},\n",
       " {'txId': 7, 'txTime': '2022-05-17T05:57:47Z'},\n",
       " {'txId': 8, 'txTime': '2022-05-17T05:57:47Z'},\n",
       " {'txId': 9, 'txTime': '2022-05-17T05:57:47Z'},\n",
       " {'txId': 10, 'txTime': '2022-05-17T05:57:47Z'},\n",
       " {'txId': 11, 'txTime': '2022-05-17T05:57:47Z'},\n",
       " {'txId': 12, 'txTime': '2022-05-17T05:57:47Z'},\n",
       " {'txId': 13, 'txTime': '2022-05-17T05:57:47Z'},\n",
       " {'txId': 14, 'txTime': '2022-05-17T05:57:47Z'},\n",
       " {'txId': 15, 'txTime': '2022-05-17T05:57:47Z'},\n",
       " {'txId': 16, 'txTime': '2022-05-17T05:57:47Z'},\n",
       " {'txId': 17, 'txTime': '2022-05-17T05:57:47Z'},\n",
       " {'txId': 18, 'txTime': '2022-05-17T05:57:47Z'}]"
      ]
     },
     "execution_count": 20,
     "metadata": {},
     "output_type": "execute_result"
    }
   ],
   "source": [
    "[xt.submit_tx(host=\"http://localhost:3001\", docs=docs_batch) for docs_batch in partition_all(300, docs)] "
   ]
  },
  {
   "cell_type": "code",
   "execution_count": 21,
   "id": "d8271444-7cc7-4761-8e1f-5a18c6fdb790",
   "metadata": {},
   "outputs": [
    {
     "data": {
      "text/plain": [
       "{'address': 5021,\n",
       " 'fav-number': 1,\n",
       " 'name': 5021,\n",
       " 'city': 5021,\n",
       " 'observation-date': 5021,\n",
       " 'state': 5021,\n",
       " 'xt/id': 5021}"
      ]
     },
     "execution_count": 21,
     "metadata": {},
     "output_type": "execute_result"
    }
   ],
   "source": [
    "xt.attribute_stats()"
   ]
  },
  {
   "cell_type": "markdown",
   "id": "825a24bc-32ce-42de-9254-80ee4e92af27",
   "metadata": {},
   "source": [
    "TODO Probably need to think about the equivelent of sql injection if you are doing anything like this with string manipulation.  It would probably be better to use XT's `:in` parameters."
   ]
  },
  {
   "cell_type": "code",
   "execution_count": 26,
   "id": "9a66f4cb-bffa-4a62-94c3-103407c22f86",
   "metadata": {},
   "outputs": [
    {
     "data": {
      "text/html": [
       "<div>\n",
       "<style scoped>\n",
       "    .dataframe tbody tr th:only-of-type {\n",
       "        vertical-align: middle;\n",
       "    }\n",
       "\n",
       "    .dataframe tbody tr th {\n",
       "        vertical-align: top;\n",
       "    }\n",
       "\n",
       "    .dataframe thead th {\n",
       "        text-align: right;\n",
       "    }\n",
       "</style>\n",
       "<table border=\"1\" class=\"dataframe\">\n",
       "  <thead>\n",
       "    <tr style=\"text-align: right;\">\n",
       "      <th></th>\n",
       "      <th>matched-score</th>\n",
       "      <th>matched-attribute</th>\n",
       "      <th>matched-value</th>\n",
       "      <th>results</th>\n",
       "    </tr>\n",
       "  </thead>\n",
       "  <tbody>\n",
       "    <tr>\n",
       "      <th>0</th>\n",
       "      <td>4.210673</td>\n",
       "      <td>name</td>\n",
       "      <td>Sabrina Smith</td>\n",
       "      <td>{'address': '4803 Stokes Cliffs Suite 912\n",
       "Bass...</td>\n",
       "    </tr>\n",
       "    <tr>\n",
       "      <th>1</th>\n",
       "      <td>4.210673</td>\n",
       "      <td>name</td>\n",
       "      <td>Sabrina Velazquez</td>\n",
       "      <td>{'address': '61841 Kristi Squares Suite 379\n",
       "Sa...</td>\n",
       "    </tr>\n",
       "    <tr>\n",
       "      <th>2</th>\n",
       "      <td>4.210673</td>\n",
       "      <td>name</td>\n",
       "      <td>Sabrina Flores</td>\n",
       "      <td>{'address': 'PSC 7590, Box 1898\n",
       "APO AA 57686',...</td>\n",
       "    </tr>\n",
       "    <tr>\n",
       "      <th>3</th>\n",
       "      <td>4.210673</td>\n",
       "      <td>name</td>\n",
       "      <td>Sabrina Cox</td>\n",
       "      <td>{'address': '6637 Anthony Track Apt. 203\n",
       "Lake ...</td>\n",
       "    </tr>\n",
       "    <tr>\n",
       "      <th>4</th>\n",
       "      <td>4.210673</td>\n",
       "      <td>name</td>\n",
       "      <td>Sabrina Henderson</td>\n",
       "      <td>{'address': '21849 Gomez Green\n",
       "Maxborough, NC ...</td>\n",
       "    </tr>\n",
       "    <tr>\n",
       "      <th>5</th>\n",
       "      <td>4.210673</td>\n",
       "      <td>name</td>\n",
       "      <td>Sabrina Li</td>\n",
       "      <td>{'address': '84866 Logan Village Suite 222\n",
       "Ric...</td>\n",
       "    </tr>\n",
       "    <tr>\n",
       "      <th>6</th>\n",
       "      <td>4.210673</td>\n",
       "      <td>name</td>\n",
       "      <td>Sabrina Gomez</td>\n",
       "      <td>{'address': '345 Cameron Mission\n",
       "South Travis,...</td>\n",
       "    </tr>\n",
       "    <tr>\n",
       "      <th>7</th>\n",
       "      <td>3.007623</td>\n",
       "      <td>city</td>\n",
       "      <td>North Katrina</td>\n",
       "      <td>{'address': '1246 Chaney Loaf Suite 545\n",
       "Matash...</td>\n",
       "    </tr>\n",
       "    <tr>\n",
       "      <th>8</th>\n",
       "      <td>3.007623</td>\n",
       "      <td>city</td>\n",
       "      <td>South Katrina</td>\n",
       "      <td>{'address': '143 Vance Run\n",
       "Mitchellport, MI 65...</td>\n",
       "    </tr>\n",
       "    <tr>\n",
       "      <th>9</th>\n",
       "      <td>3.007623</td>\n",
       "      <td>name</td>\n",
       "      <td>Katrina Camacho</td>\n",
       "      <td>{'address': '44773 Eric Brooks\n",
       "New Sarahview, ...</td>\n",
       "    </tr>\n",
       "  </tbody>\n",
       "</table>\n",
       "</div>"
      ],
      "text/plain": [
       "   matched-score matched-attribute      matched-value  \\\n",
       "0       4.210673              name      Sabrina Smith   \n",
       "1       4.210673              name  Sabrina Velazquez   \n",
       "2       4.210673              name     Sabrina Flores   \n",
       "3       4.210673              name        Sabrina Cox   \n",
       "4       4.210673              name  Sabrina Henderson   \n",
       "5       4.210673              name         Sabrina Li   \n",
       "6       4.210673              name      Sabrina Gomez   \n",
       "7       3.007623              city      North Katrina   \n",
       "8       3.007623              city      South Katrina   \n",
       "9       3.007623              name    Katrina Camacho   \n",
       "\n",
       "                                             results  \n",
       "0  {'address': '4803 Stokes Cliffs Suite 912\n",
       "Bass...  \n",
       "1  {'address': '61841 Kristi Squares Suite 379\n",
       "Sa...  \n",
       "2  {'address': 'PSC 7590, Box 1898\n",
       "APO AA 57686',...  \n",
       "3  {'address': '6637 Anthony Track Apt. 203\n",
       "Lake ...  \n",
       "4  {'address': '21849 Gomez Green\n",
       "Maxborough, NC ...  \n",
       "5  {'address': '84866 Logan Village Suite 222\n",
       "Ric...  \n",
       "6  {'address': '345 Cameron Mission\n",
       "South Travis,...  \n",
       "7  {'address': '1246 Chaney Loaf Suite 545\n",
       "Matash...  \n",
       "8  {'address': '143 Vance Run\n",
       "Mitchellport, MI 65...  \n",
       "9  {'address': '44773 Eric Brooks\n",
       "New Sarahview, ...  "
      ]
     },
     "metadata": {},
     "output_type": "display_data"
    },
    {
     "data": {
      "text/plain": [
       "[{'matched-score': 4.210672855377197,\n",
       "  'matched-attribute': 'name',\n",
       "  'matched-value': 'Sabrina Smith',\n",
       "  'results': {'address': '4803 Stokes Cliffs Suite 912\\nBasschester, MT 75858',\n",
       "   'name': 'Sabrina Smith',\n",
       "   'city': 'East Ethan',\n",
       "   'observation-date': '2007-07-16T16:25:01',\n",
       "   'state': 'Michigan',\n",
       "   'xt/id': '275c2df7-0e52-49dc-bb9d-8bdc937ea0a6'}},\n",
       " {'matched-score': 4.210672855377197,\n",
       "  'matched-attribute': 'name',\n",
       "  'matched-value': 'Sabrina Velazquez',\n",
       "  'results': {'address': '61841 Kristi Squares Suite 379\\nSarahchester, OK 69894',\n",
       "   'name': 'Sabrina Velazquez',\n",
       "   'city': 'Samanthaberg',\n",
       "   'observation-date': '2021-01-14T00:26:17',\n",
       "   'state': 'Idaho',\n",
       "   'xt/id': '7dc5be92-ee84-4612-8aec-cb855c0466f7'}},\n",
       " {'matched-score': 4.210672855377197,\n",
       "  'matched-attribute': 'name',\n",
       "  'matched-value': 'Sabrina Flores',\n",
       "  'results': {'address': 'PSC 7590, Box 1898\\nAPO AA 57686',\n",
       "   'name': 'Sabrina Flores',\n",
       "   'city': 'Brookeport',\n",
       "   'observation-date': '2012-01-01T01:31:13',\n",
       "   'state': 'Iowa',\n",
       "   'xt/id': 'b829aab0-528b-45ef-bed4-085edb6ac941'}},\n",
       " {'matched-score': 4.210672855377197,\n",
       "  'matched-attribute': 'name',\n",
       "  'matched-value': 'Sabrina Cox',\n",
       "  'results': {'address': '6637 Anthony Track Apt. 203\\nLake Roberttown, CO 40549',\n",
       "   'name': 'Sabrina Cox',\n",
       "   'city': 'Markchester',\n",
       "   'observation-date': '2020-06-25T22:57:43',\n",
       "   'state': 'Vermont',\n",
       "   'xt/id': 'c5e0f82d-3c69-46b3-a324-4eae6f4ee338'}},\n",
       " {'matched-score': 4.210672855377197,\n",
       "  'matched-attribute': 'name',\n",
       "  'matched-value': 'Sabrina Henderson',\n",
       "  'results': {'address': '21849 Gomez Green\\nMaxborough, NC 87286',\n",
       "   'name': 'Sabrina Henderson',\n",
       "   'city': 'Rhodesville',\n",
       "   'observation-date': '2010-09-05T16:31:22',\n",
       "   'state': 'Mississippi',\n",
       "   'xt/id': 'c813e101-2b53-4327-b452-2be35d486a98'}},\n",
       " {'matched-score': 4.210672855377197,\n",
       "  'matched-attribute': 'name',\n",
       "  'matched-value': 'Sabrina Li',\n",
       "  'results': {'address': '84866 Logan Village Suite 222\\nRichardside, NM 99788',\n",
       "   'name': 'Sabrina Li',\n",
       "   'city': 'Lake Jillmouth',\n",
       "   'observation-date': '2017-02-10T17:19:17',\n",
       "   'state': 'South Carolina',\n",
       "   'xt/id': 'f4bd5888-dc4a-4a51-8352-58ddaa179551'}},\n",
       " {'matched-score': 4.210672855377197,\n",
       "  'matched-attribute': 'name',\n",
       "  'matched-value': 'Sabrina Gomez',\n",
       "  'results': {'address': '345 Cameron Mission\\nSouth Travis, OK 31585',\n",
       "   'name': 'Sabrina Gomez',\n",
       "   'city': 'Schneiderland',\n",
       "   'observation-date': '2010-02-02T17:40:13',\n",
       "   'state': 'Pennsylvania',\n",
       "   'xt/id': 'fc7d82e2-8b8e-4155-8711-403b2c07f0dc'}},\n",
       " {'matched-score': 3.0076234340667725,\n",
       "  'matched-attribute': 'city',\n",
       "  'matched-value': 'North Katrina',\n",
       "  'results': {'address': '1246 Chaney Loaf Suite 545\\nMatashire, TN 75134',\n",
       "   'name': 'Samantha Henry',\n",
       "   'city': 'North Katrina',\n",
       "   'observation-date': '2022-01-25T05:59:41',\n",
       "   'state': 'Delaware',\n",
       "   'xt/id': '1b473380-cdb7-45ae-8ca3-903efdf5d42d'}},\n",
       " {'matched-score': 3.0076234340667725,\n",
       "  'matched-attribute': 'city',\n",
       "  'matched-value': 'South Katrina',\n",
       "  'results': {'address': '143 Vance Run\\nMitchellport, MI 65738',\n",
       "   'name': 'Alexis Parrish',\n",
       "   'city': 'South Katrina',\n",
       "   'observation-date': '2012-07-24T06:57:37',\n",
       "   'state': 'Massachusetts',\n",
       "   'xt/id': '1ee58e58-c9b9-411d-b951-d96c9eef26b5'}},\n",
       " {'matched-score': 3.0076234340667725,\n",
       "  'matched-attribute': 'name',\n",
       "  'matched-value': 'Katrina Camacho',\n",
       "  'results': {'address': '44773 Eric Brooks\\nNew Sarahview, VA 22007',\n",
       "   'name': 'Katrina Camacho',\n",
       "   'city': 'Suttonview',\n",
       "   'observation-date': '2014-04-20T10:56:38',\n",
       "   'state': 'Delaware',\n",
       "   'xt/id': 'bdb8c7ae-4683-4c34-927b-fd01c3df297d'}}]"
      ]
     },
     "metadata": {},
     "output_type": "display_data"
    }
   ],
   "source": [
    "edn_query = \"\"\"\n",
    "{:query \n",
    "{:find [ ?score\n",
    "         ?attribute\n",
    "         ?value\n",
    "         (pull ?id [*])]\n",
    "  :keys [matched-score matched-attribute matched-value results]               \n",
    "  :where [[(wildcard-text-search \"sabrina~\") [[?id ?value ?attribute ?score]]]\n",
    "          [?id :xt/id]                 \n",
    "          ]\n",
    "   :order-by [[?score :desc]]\n",
    "  :limit 10}  }\"\"\" \n",
    "\n",
    "results = xt.query_edn(host=\"http://localhost:3001\", \n",
    "             data=edn_query)\n",
    "\n",
    "display(pd.DataFrame(results))\n",
    "display(results) "
   ]
  },
  {
   "cell_type": "code",
   "execution_count": null,
   "id": "26bc2fd8-8a03-4abc-9e27-520b8355ddfc",
   "metadata": {},
   "outputs": [],
   "source": []
  }
 ],
 "metadata": {
  "kernelspec": {
   "display_name": "Python 3 (ipykernel)",
   "language": "python",
   "name": "python3"
  },
  "language_info": {
   "codemirror_mode": {
    "name": "ipython",
    "version": 3
   },
   "file_extension": ".py",
   "mimetype": "text/x-python",
   "name": "python",
   "nbconvert_exporter": "python",
   "pygments_lexer": "ipython3",
   "version": "3.10.4"
  }
 },
 "nbformat": 4,
 "nbformat_minor": 5
}
